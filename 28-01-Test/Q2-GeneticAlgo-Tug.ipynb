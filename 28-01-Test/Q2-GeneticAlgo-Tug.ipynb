{
 "cells": [
  {
   "cell_type": "markdown",
   "metadata": {},
   "source": [
    "## Problem Statment"
   ]
  },
  {
   "cell_type": "markdown",
   "metadata": {},
   "source": [
    "### Parameters:\n",
    "\n",
    "1. **Material Composition (M):** The percentatge of high strength fibres. \n",
    "    - Range: 0% to 100%\n",
    "2. **Thickness (T):** Diameter of Rope in milimeters.\n",
    "    - Range: 10mm to 50mm\n",
    "3. **Length (L):** Length of Rope in meters.\n",
    "    - Range: 10m to 100m\n",
    "4. **Twist Factor (F):** Number of twists in the rope.\n",
    "    - Range: 5 to 20 twists per meter"
   ]
  },
  {
   "cell_type": "markdown",
   "metadata": {},
   "source": [
    "### Objective Function:\n",
    "\n",
    "$Strength (S) = (M * 0.8) + (T * 1.5) + (L * 0.2) + (F*0.5)$"
   ]
  },
  {
   "cell_type": "markdown",
   "metadata": {},
   "source": [
    "### Constraints:\n",
    "\n",
    "- $M \\geq 20$\n",
    "- $T \\leq 40$\n",
    "- $L \\geq 20$\n",
    "- $F \\geq 10$"
   ]
  },
  {
   "cell_type": "markdown",
   "metadata": {},
   "source": [
    "## Genetic Algorithm"
   ]
  },
  {
   "cell_type": "code",
   "execution_count": 295,
   "metadata": {},
   "outputs": [],
   "source": [
    "import random"
   ]
  },
  {
   "cell_type": "code",
   "execution_count": 296,
   "metadata": {},
   "outputs": [],
   "source": [
    "def fitness(individual):\n",
    "    M, T, L, F = individual\n",
    "    if M < 20 or T > 40 or L < 20 or F < 10:\n",
    "        return 0\n",
    "    fitness_value = M*0.8 + T*1.5 + L*0.2 + F*0.5\n",
    "    return fitness_value"
   ]
  },
  {
   "cell_type": "code",
   "execution_count": 297,
   "metadata": {},
   "outputs": [],
   "source": [
    "def create_population(size):\n",
    "    population = []\n",
    "    for _ in range(size):\n",
    "        M = random.randint(0, 100)\n",
    "        T = random.randint(10, 50)\n",
    "        L = random.randint(10, 100)\n",
    "        F = random.randint(5, 20)\n",
    "        population.append((M, T, L, F))\n",
    "    return population"
   ]
  },
  {
   "cell_type": "code",
   "execution_count": 298,
   "metadata": {},
   "outputs": [],
   "source": [
    "def crossover(parent1, parent2):\n",
    "    point = random.randint(1, 3)\n",
    "    child1 = parent1[:point] + parent2[point:]\n",
    "    child2 = parent2[:point] + parent1[point:]\n",
    "    return child1, child2"
   ]
  },
  {
   "cell_type": "code",
   "execution_count": 299,
   "metadata": {},
   "outputs": [],
   "source": [
    "def mutate(individual, mutation_rate=0.1):\n",
    "    M, T, L, F = individual\n",
    "    if random.random() < mutation_rate:\n",
    "        M = random.randint(0, 100)\n",
    "        T = random.randint(10, 50)\n",
    "        L = random.randint(10, 100)\n",
    "        F = random.randint(5, 20)\n",
    "    return (M, T, L, F)"
   ]
  },
  {
   "cell_type": "code",
   "execution_count": 300,
   "metadata": {},
   "outputs": [],
   "source": [
    "Y = []\n",
    "X = []\n",
    "def genetic_algorithm(pop_size=20, generations=10):\n",
    "    population = create_population(pop_size)\n",
    "    for _ in range(generations):\n",
    "        population = sorted(population, key=fitness, reverse=True)\n",
    "        best_fitness = fitness(population[0])\n",
    "        Y.append(best_fitness)\n",
    "        X.append(_)\n",
    "        next_gen = population[:2]\n",
    "        while len(next_gen) < pop_size:\n",
    "            p1, p2 = random.choices(population[:10], k=2)\n",
    "            c1, c2 = crossover(p1, p2)\n",
    "            c1 = mutate(c1)\n",
    "            c2 = mutate(c2)\n",
    "            next_gen += [c1, c2]\n",
    "        population = next_gen\n",
    "    return max(population, key=fitness)"
   ]
  },
  {
   "cell_type": "code",
   "execution_count": 301,
   "metadata": {},
   "outputs": [
    {
     "name": "stdout",
     "output_type": "stream",
     "text": [
      "Best rope configuration: (93, 40, 98, 18)\n",
      "M: 93, T: 40, L: 98, F: 18\n",
      "Best rope fitness: 163.0\n"
     ]
    }
   ],
   "source": [
    "best_rope = genetic_algorithm(pop_size=10, generations=50)\n",
    "print(\"Best rope configuration:\", best_rope)\n",
    "print(f\"M: {best_rope[0]}, T: {best_rope[1]}, L: {best_rope[2]}, F: {best_rope[3]}\")\n",
    "print(\"Best rope fitness:\", fitness(best_rope))"
   ]
  },
  {
   "cell_type": "markdown",
   "metadata": {},
   "source": [
    "### Printing Fitness over Generations"
   ]
  },
  {
   "cell_type": "code",
   "execution_count": 302,
   "metadata": {},
   "outputs": [
    {
     "data": {
      "image/png": "[encoded data removed]",
      "text/plain": [
       "<Figure size 640x480 with 1 Axes>"
      ]
     },
     "metadata": {},
     "output_type": "display_data"
    }
   ],
   "source": [
    "import matplotlib.pyplot as plt\n",
    "\n",
    "plt.plot(X, Y)\n",
    "plt.xlabel('Generations')\n",
    "plt.ylabel('Fitness')\n",
    "plt.title('Fitness over Generations')\n",
    "plt.show()"
   ]
  }
 ],
 "metadata": {
  "kernelspec": {
   "display_name": "Python 3",
   "language": "python",
   "name": "python3"
  },
  "language_info": {
   "codemirror_mode": {
    "name": "ipython",
    "version": 3
   },
   "file_extension": ".py",
   "mimetype": "text/x-python",
   "name": "python",
   "nbconvert_exporter": "python",
   "pygments_lexer": "ipython3",
   "version": "3.11.1"
  }
 },
 "nbformat": 4,
 "nbformat_minor": 2
}
