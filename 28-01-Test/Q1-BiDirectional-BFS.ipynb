{
 "cells": [
  {
   "cell_type": "markdown",
   "metadata": {},
   "source": [
    "### Import Libraries"
   ]
  },
  {
   "cell_type": "code",
   "execution_count": 1,
   "metadata": {},
   "outputs": [],
   "source": [
    "from collections import deque\n",
    "import networkx as nx\n",
    "import matplotlib.pyplot as plt"
   ]
  },
  {
   "cell_type": "markdown",
   "metadata": {},
   "source": [
    "### Construct path after finding meeting point"
   ]
  },
  {
   "cell_type": "code",
   "execution_count": 2,
   "metadata": {},
   "outputs": [],
   "source": [
    "def construct_path(meeting_point, parent_fwd, parent_bwd):\n",
    "    path_forward = []\n",
    "    cur = meeting_point\n",
    "    while cur is not None:\n",
    "        path_forward.append(cur)\n",
    "        cur = parent_fwd[cur]\n",
    "    path_forward.reverse()\n",
    "\n",
    "    path_backward = []\n",
    "    cur = parent_bwd[meeting_point]\n",
    "    while cur is not None:\n",
    "        path_backward.append(cur)\n",
    "        cur = parent_bwd[cur]\n",
    "\n",
    "    # print(f\"Forward Path: {path_forward}\\nBackward Path: {path_backward}\")\n",
    "    return path_forward + path_backward"
   ]
  },
  {
   "cell_type": "markdown",
   "metadata": {},
   "source": [
    "### Visualize graph using networkX library"
   ]
  },
  {
   "cell_type": "code",
   "execution_count": 3,
   "metadata": {},
   "outputs": [],
   "source": [
    "def visualize_graph_and_path(graph, path=None):\n",
    "    G = nx.Graph() # empty graph\n",
    "    for node, edges in graph.items(): # iterate over the nodes and edges\n",
    "        for neighbor, weight in edges: # get nodes and weights\n",
    "            G.add_weighted_edges_from([(node, neighbor, weight)]) # add weighted edges to graph\n",
    "    pos = nx.spring_layout(G) # calculate position\n",
    "    nx.draw(G, pos, with_labels=True, node_size=500, font_size=9) # draw nodes\n",
    "    nx.draw_networkx_edge_labels( # edge labels 'weights' are added\n",
    "        G, pos, edge_labels={(u, v): d['weight'] for u, v, d in G.edges(data=True)}\n",
    "    )\n",
    "    if path: #if a path is provided, highight it\n",
    "        edges_in_path = list(zip(path, path[1:]))\n",
    "        nx.draw_networkx_edges(G, pos, edgelist=edges_in_path, edge_color='r', width=2)\n",
    "    plt.show()"
   ]
  },
  {
   "cell_type": "markdown",
   "metadata": {},
   "source": [
    "### Bidirectional BFS Algorithm"
   ]
  },
  {
   "cell_type": "code",
   "execution_count": 4,
   "metadata": {},
   "outputs": [],
   "source": [
    "\n",
    "def bidirectional_bfs(graph, start, goal):\n",
    "    if start == goal:\n",
    "        print(f\"Visited order from start: [{start}]\")\n",
    "        print(f\"Visited order from goal: [{goal}]\")\n",
    "        print(f\"Shortest path: [{start}]\")\n",
    "        return\n",
    "\n",
    "    visited_fwd = set([start])\n",
    "    visited_bwd = set([goal])\n",
    "    parent_fwd = {start: None}\n",
    "    parent_bwd = {goal: None}\n",
    "\n",
    "    queue_fwd = deque([start])\n",
    "    queue_bwd = deque([goal])\n",
    "\n",
    "    visited_order_fwd = []\n",
    "    visited_order_bwd = []\n",
    "    \n",
    "    while queue_fwd and queue_bwd:\n",
    "        if queue_fwd:\n",
    "            node = queue_fwd.popleft()\n",
    "            visited_order_fwd.append(node)\n",
    "            for adjnode, _ in graph.get(node, []):\n",
    "                if adjnode not in visited_fwd:\n",
    "                    visited_fwd.add(adjnode)\n",
    "                    parent_fwd[adjnode] = node\n",
    "                    queue_fwd.append(adjnode)\n",
    "                    if adjnode in visited_bwd:\n",
    "                        # found in both directions\n",
    "                        print(f\"Visited order from start: {visited_order_fwd}\")\n",
    "                        print(f\"Visited order from goal: {visited_order_bwd}\")\n",
    "                        print(f\"Meeting point Node: ['{adjnode}']\")\n",
    "                        path = construct_path(adjnode, parent_fwd, parent_bwd)\n",
    "                        print(f\"Shortest path: {path}\")\n",
    "                        visualize_graph_and_path(graph, path)\n",
    "                        return\n",
    "\n",
    "        if queue_bwd:\n",
    "            node = queue_bwd.popleft()\n",
    "            visited_order_bwd.append(node)\n",
    "            for adjnode, _ in graph.get(node, []):\n",
    "                if adjnode not in visited_bwd:\n",
    "                    visited_bwd.add(adjnode)\n",
    "                    parent_bwd[adjnode] = node\n",
    "                    queue_bwd.append(adjnode)\n",
    "                    if adjnode in visited_fwd:\n",
    "                        print(f\"Visited order from start: {visited_order_fwd}\")\n",
    "                        print(f\"Visited order from goal: {visited_order_bwd}\")\n",
    "                        print(f\"Meeting point Node: ['{adjnode}']\")\n",
    "                        path = construct_path(adjnode, parent_fwd, parent_bwd)\n",
    "                        print(f\"Shortest path: {path}\")\n",
    "                        visualize_graph_and_path(graph, path)\n",
    "                        return\n",
    "\n",
    "    print(f\"Visited order from start: {visited_order_fwd}\")\n",
    "    print(f\"Visited order from goal: {visited_order_bwd}\")\n",
    "    print(\"No path found.\")\n"
   ]
  },
  {
   "cell_type": "code",
   "execution_count": 5,
   "metadata": {},
   "outputs": [
    {
     "name": "stdout",
     "output_type": "stream",
     "text": [
      "Visited order from start: ['D', 'B']\n",
      "Visited order from goal: ['F']\n",
      "Meeting point Node: ['E']\n",
      "Shortest path: ['D', 'B', 'E', 'F']\n"
     ]
    },
    {
     "data": {
      "image/png": "[encoded data removed]",
      "text/plain": [
       "<Figure size 640x480 with 1 Axes>"
      ]
     },
     "metadata": {},
     "output_type": "display_data"
    }
   ],
   "source": [
    "graph = {\n",
    "    'A': [('B', 1), ('C', 2)], \n",
    "    'B': [('E', 5), ('D', 2), ('A', 1)], \n",
    "    'C': [('A', 4), ('F', 3)], \n",
    "    'D': [('B', 2)], \n",
    "    'E': [('F', 2), ('B', 5)],\n",
    "    'F': [('E', 2), ('C', 3)]\n",
    "}\n",
    "start_node = 'D'\n",
    "goal_node = 'F'\n",
    "bidirectional_bfs(graph, start_node, goal_node)"
   ]
  },
  {
   "cell_type": "code",
   "execution_count": null,
   "metadata": {},
   "outputs": [],
   "source": []
  }
 ],
 "metadata": {
  "kernelspec": {
   "display_name": "Python 3",
   "language": "python",
   "name": "python3"
  },
  "language_info": {
   "codemirror_mode": {
    "name": "ipython",
    "version": 3
   },
   "file_extension": ".py",
   "mimetype": "text/x-python",
   "name": "python",
   "nbconvert_exporter": "python",
   "pygments_lexer": "ipython3",
   "version": "3.11.1"
  }
 },
 "nbformat": 4,
 "nbformat_minor": 2
}
