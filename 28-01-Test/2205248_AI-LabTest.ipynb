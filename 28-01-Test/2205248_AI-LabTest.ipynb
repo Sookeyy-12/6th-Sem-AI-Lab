{
 "cells": [
  {
   "cell_type": "markdown",
   "metadata": {},
   "source": [
    "# Question 1"
   ]
  },
  {
   "cell_type": "code",
   "execution_count": 20,
   "metadata": {},
   "outputs": [],
   "source": [
    "from collections import deque\n",
    "import networkx as nx\n",
    "import matplotlib.pyplot as plt"
   ]
  },
  {
   "cell_type": "code",
   "execution_count": 21,
   "metadata": {},
   "outputs": [],
   "source": [
    "def construct_path(meeting_point, parent_fwd, parent_bwd):\n",
    "    path_forward = []\n",
    "    cur = meeting_point\n",
    "    while cur is not None:\n",
    "        path_forward.append(cur)\n",
    "        cur = parent_fwd[cur]\n",
    "    path_forward.reverse()\n",
    "\n",
    "    path_backward = []\n",
    "    cur = parent_bwd[meeting_point]\n",
    "    while cur is not None:\n",
    "        path_backward.append(cur)\n",
    "        cur = parent_bwd[cur]\n",
    "\n",
    "    # print(f\"Forward Path: {path_forward}\\nBackward Path: {path_backward}\")\n",
    "    return path_forward + path_backward"
   ]
  },
  {
   "cell_type": "code",
   "execution_count": 22,
   "metadata": {},
   "outputs": [],
   "source": [
    "def visualize_graph_and_path(graph, path=None):\n",
    "    G = nx.Graph() # empty graph\n",
    "    for node, edges in graph.items(): # iterate over the nodes and edges\n",
    "        for neighbor, weight in edges: # get nodes and weights\n",
    "            G.add_weighted_edges_from([(node, neighbor, weight)]) # add weighted edges to graph\n",
    "    pos = nx.spring_layout(G) # calculate position\n",
    "    nx.draw(G, pos, with_labels=True, node_size=500, font_size=9) # draw nodes\n",
    "    nx.draw_networkx_edge_labels( # edge labels 'weights' are added\n",
    "        G, pos, edge_labels={(u, v): d['weight'] for u, v, d in G.edges(data=True)}\n",
    "    )\n",
    "    if path: #if a path is provided, highight it\n",
    "        edges_in_path = list(zip(path, path[1:]))\n",
    "        nx.draw_networkx_edges(G, pos, edgelist=edges_in_path, edge_color='r', width=2)\n",
    "    plt.show()"
   ]
  },
  {
   "cell_type": "code",
   "execution_count": 23,
   "metadata": {},
   "outputs": [],
   "source": [
    "\n",
    "def bidirectional_bfs(graph, start, goal):\n",
    "    if start == goal:\n",
    "        print(f\"Visited order from start: [{start}]\")\n",
    "        print(f\"Visited order from goal: [{goal}]\")\n",
    "        print(f\"Shortest path: [{start}]\")\n",
    "        return\n",
    "\n",
    "    visited_fwd = set([start])\n",
    "    visited_bwd = set([goal])\n",
    "    parent_fwd = {start: None}\n",
    "    parent_bwd = {goal: None}\n",
    "\n",
    "    queue_fwd = deque([start])\n",
    "    queue_bwd = deque([goal])\n",
    "\n",
    "    visited_order_fwd = []\n",
    "    visited_order_bwd = []\n",
    "    \n",
    "    while queue_fwd and queue_bwd:\n",
    "        if queue_fwd:\n",
    "            node = queue_fwd.popleft()\n",
    "            visited_order_fwd.append(node)\n",
    "            for adjnode, _ in graph.get(node, []):\n",
    "                if adjnode not in visited_fwd:\n",
    "                    visited_fwd.add(adjnode)\n",
    "                    parent_fwd[adjnode] = node\n",
    "                    queue_fwd.append(adjnode)\n",
    "                    if adjnode in visited_bwd:\n",
    "                        # found in both directions\n",
    "                        print(f\"Visited order from start: {visited_order_fwd}\")\n",
    "                        print(f\"Visited order from goal: {visited_order_bwd}\")\n",
    "                        print(f\"Meeting point Node: ['{adjnode}']\")\n",
    "                        path = construct_path(adjnode, parent_fwd, parent_bwd)\n",
    "                        print(f\"Shortest path: {path}\")\n",
    "                        visualize_graph_and_path(graph, path)\n",
    "                        return\n",
    "\n",
    "        if queue_bwd:\n",
    "            node = queue_bwd.popleft()\n",
    "            visited_order_bwd.append(node)\n",
    "            for adjnode, _ in graph.get(node, []):\n",
    "                if adjnode not in visited_bwd:\n",
    "                    visited_bwd.add(adjnode)\n",
    "                    parent_bwd[adjnode] = node\n",
    "                    queue_bwd.append(adjnode)\n",
    "                    if adjnode in visited_fwd:\n",
    "                        print(f\"Visited order from start: {visited_order_fwd}\")\n",
    "                        print(f\"Visited order from goal: {visited_order_bwd}\")\n",
    "                        print(f\"Meeting point Node: ['{adjnode}']\")\n",
    "                        path = construct_path(adjnode, parent_fwd, parent_bwd)\n",
    "                        print(f\"Shortest path: {path}\")\n",
    "                        visualize_graph_and_path(graph, path)\n",
    "                        return\n",
    "\n",
    "    print(f\"Visited order from start: {visited_order_fwd}\")\n",
    "    print(f\"Visited order from goal: {visited_order_bwd}\")\n",
    "    print(\"No path found.\")\n"
   ]
  },
  {
   "cell_type": "code",
   "execution_count": 24,
   "metadata": {},
   "outputs": [
    {
     "name": "stdout",
     "output_type": "stream",
     "text": [
      "Visited order from start: ['D', 'B']\n",
      "Visited order from goal: ['F']\n",
      "Meeting point Node: ['E']\n",
      "Shortest path: ['D', 'B', 'E', 'F']\n"
     ]
    },
    {
     "data": {
      "image/png": "[encoded data removed]",
      "text/plain": [
       "<Figure size 640x480 with 1 Axes>"
      ]
     },
     "metadata": {},
     "output_type": "display_data"
    }
   ],
   "source": [
    "graph = {\n",
    "    'A': [('B', 1), ('C', 2)], \n",
    "    'B': [('E', 5), ('D', 2), ('A', 1)], \n",
    "    'C': [('A', 4), ('F', 3)], \n",
    "    'D': [('B', 2)], \n",
    "    'E': [('F', 2), ('B', 5)],\n",
    "    'F': [('E', 2), ('C', 3)]\n",
    "}\n",
    "start_node = 'D'\n",
    "goal_node = 'F'\n",
    "bidirectional_bfs(graph, start_node, goal_node)"
   ]
  },
  {
   "cell_type": "markdown",
   "metadata": {},
   "source": [
    "# Question 2"
   ]
  },
  {
   "cell_type": "markdown",
   "metadata": {},
   "source": [
    "## Problem Statement\n",
    "\n",
    "### Parameters:\n",
    "\n",
    "1. **Material Composition (M):** The percentatge of high strength fibres. \n",
    "    - Range: 0% to 100%\n",
    "2. **Thickness (T):** Diameter of Rope in milimeters.\n",
    "    - Range: 10mm to 50mm\n",
    "3. **Length (L):** Length of Rope in meters.\n",
    "    - Range: 10m to 100m\n",
    "4. **Twist Factor (F):** Number of twists in the rope.\n",
    "    - Range: 5 to 20 twists per meter"
   ]
  },
  {
   "cell_type": "markdown",
   "metadata": {},
   "source": [
    "### Objective Function:\n",
    "\n",
    "$Strength (S) = (M * 0.8) + (T * 1.5) + (L * 0.2) + (F*0.5)$"
   ]
  },
  {
   "cell_type": "markdown",
   "metadata": {},
   "source": [
    "### Constraints:\n",
    "\n",
    "- $M \\geq 20$\n",
    "- $T \\leq 40$\n",
    "- $L \\geq 20$\n",
    "- $F \\geq 10$"
   ]
  },
  {
   "cell_type": "code",
   "execution_count": 25,
   "metadata": {},
   "outputs": [],
   "source": [
    "import random"
   ]
  },
  {
   "cell_type": "code",
   "execution_count": 26,
   "metadata": {},
   "outputs": [],
   "source": [
    "def fitness(individual):\n",
    "    M, T, L, F = individual\n",
    "    if M < 20 or T > 40 or L < 20 or F < 10:\n",
    "        return 0\n",
    "    fitness_value = M*0.8 + T*1.5 + L*0.2 + F*0.5\n",
    "    return fitness_value"
   ]
  },
  {
   "cell_type": "code",
   "execution_count": 27,
   "metadata": {},
   "outputs": [],
   "source": [
    "def create_population(size):\n",
    "    population = []\n",
    "    for _ in range(size):\n",
    "        M = random.randint(0, 100)\n",
    "        T = random.randint(10, 50)\n",
    "        L = random.randint(10, 100)\n",
    "        F = random.randint(5, 20)\n",
    "        population.append((M, T, L, F))\n",
    "    return population"
   ]
  },
  {
   "cell_type": "code",
   "execution_count": 28,
   "metadata": {},
   "outputs": [],
   "source": [
    "def crossover(parent1, parent2):\n",
    "    point = random.randint(1, 3)\n",
    "    child1 = parent1[:point] + parent2[point:]\n",
    "    child2 = parent2[:point] + parent1[point:]\n",
    "    return child1, child2"
   ]
  },
  {
   "cell_type": "code",
   "execution_count": 29,
   "metadata": {},
   "outputs": [],
   "source": [
    "def mutate(individual, mutation_rate=0.1):\n",
    "    M, T, L, F = individual\n",
    "    if random.random() < mutation_rate:\n",
    "        M = random.randint(0, 100)\n",
    "        T = random.randint(10, 50)\n",
    "        L = random.randint(10, 100)\n",
    "        F = random.randint(5, 20)\n",
    "    return (M, T, L, F)"
   ]
  },
  {
   "cell_type": "code",
   "execution_count": 30,
   "metadata": {},
   "outputs": [],
   "source": [
    "Y = []\n",
    "X = []\n",
    "def genetic_algorithm(pop_size=20, generations=10):\n",
    "    population = create_population(pop_size)\n",
    "    for _ in range(generations):\n",
    "        population = sorted(population, key=fitness, reverse=True)\n",
    "        best_fitness = fitness(population[0])\n",
    "        Y.append(best_fitness)\n",
    "        X.append(_)\n",
    "        next_gen = population[:2]\n",
    "        while len(next_gen) < pop_size:\n",
    "            p1, p2 = random.choices(population[:10], k=2)\n",
    "            c1, c2 = crossover(p1, p2)\n",
    "            c1 = mutate(c1)\n",
    "            c2 = mutate(c2)\n",
    "            next_gen += [c1, c2]\n",
    "        population = next_gen\n",
    "    return max(population, key=fitness)"
   ]
  },
  {
   "cell_type": "code",
   "execution_count": 31,
   "metadata": {},
   "outputs": [
    {
     "name": "stdout",
     "output_type": "stream",
     "text": [
      "Best rope configuration: (90, 39, 99, 20)\n",
      "M: 90, T: 39, L: 99, F: 20\n",
      "Best rope fitness: 160.3\n"
     ]
    }
   ],
   "source": [
    "best_rope = genetic_algorithm(pop_size=10, generations=50)\n",
    "print(\"Best rope configuration:\", best_rope)\n",
    "print(f\"M: {best_rope[0]}, T: {best_rope[1]}, L: {best_rope[2]}, F: {best_rope[3]}\")\n",
    "print(\"Best rope fitness:\", fitness(best_rope))"
   ]
  },
  {
   "cell_type": "code",
   "execution_count": 32,
   "metadata": {},
   "outputs": [
    {
     "data": {
      "image/png": "[encoded data removed]",
      "text/plain": [
       "<Figure size 640x480 with 1 Axes>"
      ]
     },
     "metadata": {},
     "output_type": "display_data"
    }
   ],
   "source": [
    "import matplotlib.pyplot as plt\n",
    "\n",
    "plt.plot(X, Y)\n",
    "plt.xlabel('Generations')\n",
    "plt.ylabel('Fitness')\n",
    "plt.title('Fitness over Generations')\n",
    "plt.show()"
   ]
  }
 ],
 "metadata": {
  "kernelspec": {
   "display_name": "Python 3",
   "language": "python",
   "name": "python3"
  },
  "language_info": {
   "codemirror_mode": {
    "name": "ipython",
    "version": 3
   },
   "file_extension": ".py",
   "mimetype": "text/x-python",
   "name": "python",
   "nbconvert_exporter": "python",
   "pygments_lexer": "ipython3",
   "version": "3.11.1"
  }
 },
 "nbformat": 4,
 "nbformat_minor": 2
}
