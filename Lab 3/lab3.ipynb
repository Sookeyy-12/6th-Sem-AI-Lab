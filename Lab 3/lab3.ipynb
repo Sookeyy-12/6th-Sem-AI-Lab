{
 "cells": [
  {
   "cell_type": "markdown",
   "metadata": {},
   "source": [
    "## Assignment 3: Search for treasure using Best Find Search\n",
    "\n",
    "**Objective**: Use Best Find Search to find a treasure in a grid\n",
    "**Problem Statement**: The Treasure is hidden in a grid, and each cell has a heuristic value representing its \"closeness\" to the treasure. Implement Best-Find Search to locate the treasure.\n",
    "**Tasks**:\n",
    "1. Use Manhattan distance as heuristic.\n",
    "2. Implement the algorithm to always move to the most promising cell first (minimum heuristic value).\n",
    "3. Analyze how heuristic choice affects performance."
   ]
  },
  {
   "cell_type": "code",
   "execution_count": 1,
   "metadata": {},
   "outputs": [],
   "source": [
    "import numpy as np\n",
    "from queue import PriorityQueue\n",
    "import time"
   ]
  },
  {
   "cell_type": "code",
   "execution_count": 2,
   "metadata": {},
   "outputs": [],
   "source": [
    "def create_node(position, heuristic, parent=None):\n",
    "    return {\n",
    "        'position': position,\n",
    "        'heuristic': heuristic,\n",
    "        'parent': parent\n",
    "    }"
   ]
  },
  {
   "cell_type": "code",
   "execution_count": 3,
   "metadata": {},
   "outputs": [],
   "source": [
    "def manhattan_distance(pos1, pos2):\n",
    "    return abs(pos1[0] - pos2[0]) + abs(pos1[1] - pos2[1])"
   ]
  },
  {
   "cell_type": "code",
   "execution_count": 4,
   "metadata": {},
   "outputs": [],
   "source": [
    "def initialize_grid(size):\n",
    "    grid = np.zeros((size, size))\n",
    "    treasure_pos = (np.random.randint(0, size), np.random.randint(0, size))\n",
    "    start_pos = (0, 0)\n",
    "    \n",
    "    # Set heuristic values\n",
    "    for i in range(size):\n",
    "        for j in range(size):\n",
    "            grid[i][j] = manhattan_distance((i,j), treasure_pos)\n",
    "            \n",
    "    return grid, treasure_pos, start_pos"
   ]
  },
  {
   "cell_type": "code",
   "execution_count": 5,
   "metadata": {},
   "outputs": [],
   "source": [
    "def get_neighbors(position, size):\n",
    "    neighbors = []\n",
    "    moves = [(0,1), (1,0), (0,-1), (-1,0)]  # Right, Down, Left, Up\n",
    "    \n",
    "    for move in moves:\n",
    "        new_pos = (position[0] + move[0], position[1] + move[1])\n",
    "        if 0 <= new_pos[0] < size and 0 <= new_pos[1] < size:\n",
    "            neighbors.append(new_pos)\n",
    "    return neighbors"
   ]
  },
  {
   "cell_type": "code",
   "execution_count": 6,
   "metadata": {},
   "outputs": [],
   "source": [
    "def reconstruct_path(node):\n",
    "    path = []\n",
    "    current = node\n",
    "    while current is not None:\n",
    "        path.append(current['position'])\n",
    "        current = current['parent']\n",
    "    return path[::-1]"
   ]
  },
  {
   "cell_type": "code",
   "execution_count": 7,
   "metadata": {},
   "outputs": [],
   "source": [
    "def best_first_search(grid, start_pos, treasure_pos):\n",
    "    size = len(grid)\n",
    "    start_time = time.time()\n",
    "    nodes_explored = 0\n",
    "    \n",
    "    frontier = PriorityQueue()\n",
    "    start_node = create_node(start_pos, grid[start_pos])\n",
    "    # Store only heuristic value as first element of tuple for comparison\n",
    "    frontier.put((start_node['heuristic'], id(start_node), start_node))\n",
    "    \n",
    "    visited = set()\n",
    "    \n",
    "    while not frontier.empty():\n",
    "        current_node = frontier.get()[2]  # Get the node from the third element\n",
    "        current_pos = current_node['position']\n",
    "        nodes_explored += 1\n",
    "        \n",
    "        if current_pos == treasure_pos:\n",
    "            end_time = time.time()\n",
    "            path = reconstruct_path(current_node)\n",
    "            return {\n",
    "                'success': True,\n",
    "                'path': path,\n",
    "                'nodes_explored': nodes_explored,\n",
    "                'time_taken': end_time - start_time\n",
    "            }\n",
    "        \n",
    "        visited.add(current_pos)\n",
    "        \n",
    "        for neighbor_pos in get_neighbors(current_pos, size):\n",
    "            if neighbor_pos not in visited:\n",
    "                neighbor = create_node(neighbor_pos, grid[neighbor_pos], current_node)\n",
    "                # Add unique id to break ties and prevent dict comparison\n",
    "                frontier.put((neighbor['heuristic'], id(neighbor), neighbor))\n",
    "    \n",
    "    return {'success': False}"
   ]
  },
  {
   "cell_type": "code",
   "execution_count": 8,
   "metadata": {},
   "outputs": [],
   "source": [
    "def visualize_solution(grid, path, start_pos, treasure_pos):\n",
    "    size = len(grid)\n",
    "    print(\"\\nGrid with heuristic values:\")\n",
    "    print(grid)\n",
    "    \n",
    "    print(\"\\nPath taken (T=Treasure, S=Start, *=Path):\")\n",
    "    display_grid = np.full((size, size), '.')\n",
    "    for pos in path:\n",
    "        display_grid[pos] = '*'\n",
    "    display_grid[start_pos] = 'S'\n",
    "    display_grid[treasure_pos] = 'T'\n",
    "    \n",
    "    for row in display_grid:\n",
    "        print(' '.join(row))"
   ]
  },
  {
   "cell_type": "code",
   "execution_count": 9,
   "metadata": {},
   "outputs": [
    {
     "name": "stdout",
     "output_type": "stream",
     "text": [
      "\n",
      "Treasure found!\n",
      "Nodes explored: 11\n",
      "Time taken: 0.0000 seconds\n",
      "Path length: 11\n",
      "\n",
      "Grid with heuristic values:\n",
      "[[10.  9.  8.  7.  8.  9. 10. 11. 12. 13.]\n",
      " [ 9.  8.  7.  6.  7.  8.  9. 10. 11. 12.]\n",
      " [ 8.  7.  6.  5.  6.  7.  8.  9. 10. 11.]\n",
      " [ 7.  6.  5.  4.  5.  6.  7.  8.  9. 10.]\n",
      " [ 6.  5.  4.  3.  4.  5.  6.  7.  8.  9.]\n",
      " [ 5.  4.  3.  2.  3.  4.  5.  6.  7.  8.]\n",
      " [ 4.  3.  2.  1.  2.  3.  4.  5.  6.  7.]\n",
      " [ 3.  2.  1.  0.  1.  2.  3.  4.  5.  6.]\n",
      " [ 4.  3.  2.  1.  2.  3.  4.  5.  6.  7.]\n",
      " [ 5.  4.  3.  2.  3.  4.  5.  6.  7.  8.]]\n",
      "\n",
      "Path taken (T=Treasure, S=Start, *=Path):\n",
      "S * . . . . . . . .\n",
      ". * * * . . . . . .\n",
      ". . . * . . . . . .\n",
      ". . . * . . . . . .\n",
      ". . . * . . . . . .\n",
      ". . . * . . . . . .\n",
      ". . . * . . . . . .\n",
      ". . . T . . . . . .\n",
      ". . . . . . . . . .\n",
      ". . . . . . . . . .\n"
     ]
    }
   ],
   "source": [
    "size = 10\n",
    "grid, treasure_pos, start_pos = initialize_grid(size)\n",
    "result = best_first_search(grid, start_pos, treasure_pos)\n",
    "\n",
    "if result['success']:\n",
    "    print(f\"\\nTreasure found!\")\n",
    "    print(f\"Nodes explored: {result['nodes_explored']}\")\n",
    "    print(f\"Time taken: {result['time_taken']:.4f} seconds\")\n",
    "    print(f\"Path length: {len(result['path'])}\")\n",
    "    visualize_solution(grid, result['path'], start_pos, treasure_pos)\n",
    "else:\n",
    "    print(\"No solution found!\")"
   ]
  }
 ],
 "metadata": {
  "kernelspec": {
   "display_name": "Python 3",
   "language": "python",
   "name": "python3"
  },
  "language_info": {
   "codemirror_mode": {
    "name": "ipython",
    "version": 3
   },
   "file_extension": ".py",
   "mimetype": "text/x-python",
   "name": "python",
   "nbconvert_exporter": "python",
   "pygments_lexer": "ipython3",
   "version": "3.11.1"
  }
 },
 "nbformat": 4,
 "nbformat_minor": 2
}
