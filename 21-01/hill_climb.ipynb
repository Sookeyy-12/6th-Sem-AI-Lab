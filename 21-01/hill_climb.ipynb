{
 "cells": [
  {
   "cell_type": "code",
   "execution_count": 14,
   "metadata": {},
   "outputs": [],
   "source": [
    "import random\n",
    "import math\n",
    "import csv\n",
    "from datetime import datetime"
   ]
  },
  {
   "cell_type": "code",
   "execution_count": 15,
   "metadata": {},
   "outputs": [],
   "source": [
    "def hill_climbing(start_x, step_size=0.1, max_iterations=10):\n",
    "    current_x = start_x\n",
    "    current_value = objective_function(current_x)\n",
    "    \n",
    "    # Create a list to store results\n",
    "    results = [['Iteration', 'X Value', 'Function Value']]\n",
    "    results.append(['Start', f\"{start_x:.4f}\", f\"{current_value:.4f}\"])\n",
    "    \n",
    "    for i in range(max_iterations):\n",
    "        # Generate neighbors\n",
    "        left_neighbor = current_x - step_size\n",
    "        right_neighbor = current_x + step_size\n",
    "        \n",
    "        # Evaluate neighbors\n",
    "        left_value = objective_function(left_neighbor)\n",
    "        right_value = objective_function(right_neighbor)\n",
    "        \n",
    "        # Find the best neighbor\n",
    "        if left_value > current_value and left_value >= right_value:\n",
    "            current_x = left_neighbor\n",
    "            current_value = left_value\n",
    "        elif right_value > current_value:\n",
    "            current_x = right_neighbor\n",
    "            current_value = right_value\n",
    "        else:\n",
    "            # If no better neighbors, we've reached a peak\n",
    "            break\n",
    "            \n",
    "        print(f\"Iteration {i+1}: x = {current_x:.4f}, f(x) = {current_value:.4f}\")\n",
    "        results.append([f\"Iteration {i+1}\", f\"{current_x:.4f}\", f\"{current_value:.4f}\"])\n",
    "    \n",
    "    # # Save results to CSV\n",
    "    # timestamp = datetime.now().strftime(\"%Y%m%d_%H%M%S\")\n",
    "    # filename = f\"hillclimb_results_{timestamp}.csv\"\n",
    "    # with open(filename, 'w', newline='') as file:\n",
    "    #     writer = csv.writer(file)\n",
    "    #     writer.writerows(results)\n",
    "    #     writer.writerow([])  # Empty row\n",
    "    #     writer.writerow(['Final Results'])\n",
    "    #     writer.writerow(['Best X', 'Best Value'])\n",
    "    #     writer.writerow([f\"{current_x:.4f}\", f\"{current_value:.4f}\"])\n",
    "    \n",
    "    # print(f\"\\nResults saved to {filename}\")\n",
    "    return current_x, current_value"
   ]
  },
  {
   "cell_type": "code",
   "execution_count": 16,
   "metadata": {},
   "outputs": [],
   "source": [
    "def main():\n",
    "    # Starting point\n",
    "    start_x = random.uniform(-5, 5)\n",
    "    \n",
    "    print(\"Simple Hill Climbing Algorithm\")\n",
    "    print(\"-\" * 30)\n",
    "    print(f\"Starting point: x = 10\")\n",
    "    \n",
    "    # Run hill climbing\n",
    "    best_x, best_value = hill_climbing(10)\n",
    "    \n",
    "    print(\"\\nResults:\")\n",
    "    print(f\"Best x found: {best_x:.4f}\")\n",
    "    print(f\"Best value found: {best_value:.4f}\")"
   ]
  },
  {
   "cell_type": "code",
   "execution_count": 17,
   "metadata": {},
   "outputs": [],
   "source": [
    "def objective_function(x):\n",
    "    return x**2"
   ]
  },
  {
   "cell_type": "code",
   "execution_count": 18,
   "metadata": {},
   "outputs": [
    {
     "name": "stdout",
     "output_type": "stream",
     "text": [
      "Simple Hill Climbing Algorithm\n",
      "------------------------------\n",
      "Starting point: x = 10\n",
      "Iteration 1: x = 10.1000, f(x) = 102.0100\n",
      "Iteration 2: x = 10.2000, f(x) = 104.0400\n",
      "Iteration 3: x = 10.3000, f(x) = 106.0900\n",
      "Iteration 4: x = 10.4000, f(x) = 108.1600\n",
      "Iteration 5: x = 10.5000, f(x) = 110.2500\n",
      "Iteration 6: x = 10.6000, f(x) = 112.3600\n",
      "Iteration 7: x = 10.7000, f(x) = 114.4900\n",
      "Iteration 8: x = 10.8000, f(x) = 116.6400\n",
      "Iteration 9: x = 10.9000, f(x) = 118.8100\n",
      "Iteration 10: x = 11.0000, f(x) = 121.0000\n",
      "\n",
      "Results:\n",
      "Best x found: 11.0000\n",
      "Best value found: 121.0000\n"
     ]
    }
   ],
   "source": [
    "main()"
   ]
  },
  {
   "cell_type": "code",
   "execution_count": 19,
   "metadata": {},
   "outputs": [],
   "source": [
    "def objective_function(x):\n",
    "    return (x + 0.5)**2"
   ]
  },
  {
   "cell_type": "code",
   "execution_count": 20,
   "metadata": {},
   "outputs": [
    {
     "name": "stdout",
     "output_type": "stream",
     "text": [
      "Simple Hill Climbing Algorithm\n",
      "------------------------------\n",
      "Starting point: x = 10\n",
      "Iteration 1: x = 10.1000, f(x) = 112.3600\n",
      "Iteration 2: x = 10.2000, f(x) = 114.4900\n",
      "Iteration 3: x = 10.3000, f(x) = 116.6400\n",
      "Iteration 4: x = 10.4000, f(x) = 118.8100\n",
      "Iteration 5: x = 10.5000, f(x) = 121.0000\n",
      "Iteration 6: x = 10.6000, f(x) = 123.2100\n",
      "Iteration 7: x = 10.7000, f(x) = 125.4400\n",
      "Iteration 8: x = 10.8000, f(x) = 127.6900\n",
      "Iteration 9: x = 10.9000, f(x) = 129.9600\n",
      "Iteration 10: x = 11.0000, f(x) = 132.2500\n",
      "\n",
      "Results:\n",
      "Best x found: 11.0000\n",
      "Best value found: 132.2500\n"
     ]
    }
   ],
   "source": [
    "main()"
   ]
  },
  {
   "cell_type": "code",
   "execution_count": 21,
   "metadata": {},
   "outputs": [],
   "source": [
    "def objective_function(x):\n",
    "    return abs(x) + abs(x)"
   ]
  },
  {
   "cell_type": "code",
   "execution_count": 22,
   "metadata": {},
   "outputs": [
    {
     "name": "stdout",
     "output_type": "stream",
     "text": [
      "Simple Hill Climbing Algorithm\n",
      "------------------------------\n",
      "Starting point: x = 10\n",
      "Iteration 1: x = 10.1000, f(x) = 20.2000\n",
      "Iteration 2: x = 10.2000, f(x) = 20.4000\n",
      "Iteration 3: x = 10.3000, f(x) = 20.6000\n",
      "Iteration 4: x = 10.4000, f(x) = 20.8000\n",
      "Iteration 5: x = 10.5000, f(x) = 21.0000\n",
      "Iteration 6: x = 10.6000, f(x) = 21.2000\n",
      "Iteration 7: x = 10.7000, f(x) = 21.4000\n",
      "Iteration 8: x = 10.8000, f(x) = 21.6000\n",
      "Iteration 9: x = 10.9000, f(x) = 21.8000\n",
      "Iteration 10: x = 11.0000, f(x) = 22.0000\n",
      "\n",
      "Results:\n",
      "Best x found: 11.0000\n",
      "Best value found: 22.0000\n"
     ]
    }
   ],
   "source": [
    "main()"
   ]
  },
  {
   "cell_type": "code",
   "execution_count": 23,
   "metadata": {},
   "outputs": [],
   "source": [
    "def objective_function(x):\n",
    "    return -x * math.sin(math.sqrt(abs(x)))"
   ]
  },
  {
   "cell_type": "code",
   "execution_count": 24,
   "metadata": {},
   "outputs": [
    {
     "name": "stdout",
     "output_type": "stream",
     "text": [
      "Simple Hill Climbing Algorithm\n",
      "------------------------------\n",
      "Starting point: x = 10\n",
      "Iteration 1: x = 10.1000, f(x) = 0.3681\n",
      "Iteration 2: x = 10.2000, f(x) = 0.5317\n",
      "Iteration 3: x = 10.3000, f(x) = 0.6975\n",
      "Iteration 4: x = 10.4000, f(x) = 0.8654\n",
      "Iteration 5: x = 10.5000, f(x) = 1.0355\n",
      "Iteration 6: x = 10.6000, f(x) = 1.2076\n",
      "Iteration 7: x = 10.7000, f(x) = 1.3817\n",
      "Iteration 8: x = 10.8000, f(x) = 1.5578\n",
      "Iteration 9: x = 10.9000, f(x) = 1.7357\n",
      "Iteration 10: x = 11.0000, f(x) = 1.9155\n",
      "\n",
      "Results:\n",
      "Best x found: 11.0000\n",
      "Best value found: 1.9155\n"
     ]
    }
   ],
   "source": [
    "main()"
   ]
  },
  {
   "cell_type": "code",
   "execution_count": 25,
   "metadata": {},
   "outputs": [],
   "source": [
    "def objective_function(X):\n",
    "    a = [1, 2, 3, 4, 5, 6, 7, 8, 9, 10, 11]\n",
    "    b = [1, 2, 3, 4, 5, 6, 7, 8, 9, 10, 11]\n",
    "    x1, x2, x3, x4 = -5, -2, 3, 4\n",
    "    result = sum([(a_i - x1 * (b_i**2 + b_i * x2) / (b_i**2 + b_i * x3 + x4))**2 for a_i, b_i in zip(a, b)])\n",
    "    return result"
   ]
  },
  {
   "cell_type": "code",
   "execution_count": 26,
   "metadata": {},
   "outputs": [
    {
     "name": "stdout",
     "output_type": "stream",
     "text": [
      "Simple Hill Climbing Algorithm\n",
      "------------------------------\n",
      "Starting point: x = 10\n",
      "\n",
      "Results:\n",
      "Best x found: 10.0000\n",
      "Best value found: 863.4497\n"
     ]
    }
   ],
   "source": [
    "main()"
   ]
  }
 ],
 "metadata": {
  "kernelspec": {
   "display_name": "Python 3",
   "language": "python",
   "name": "python3"
  },
  "language_info": {
   "codemirror_mode": {
    "name": "ipython",
    "version": 3
   },
   "file_extension": ".py",
   "mimetype": "text/x-python",
   "name": "python",
   "nbconvert_exporter": "python",
   "pygments_lexer": "ipython3",
   "version": "3.11.1"
  }
 },
 "nbformat": 4,
 "nbformat_minor": 2
}
