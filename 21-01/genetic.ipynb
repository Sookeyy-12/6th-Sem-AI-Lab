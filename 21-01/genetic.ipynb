{
 "cells": [
  {
   "cell_type": "code",
   "execution_count": 1,
   "metadata": {},
   "outputs": [],
   "source": [
    "import random\n",
    "import numpy as np"
   ]
  },
  {
   "cell_type": "code",
   "execution_count": 2,
   "metadata": {},
   "outputs": [],
   "source": [
    "def objective_function(X):\n",
    "    return sum(x**2 for x in X)\n",
    "\n",
    "def create_individual(n):\n",
    "    return [random.uniform(-100, 100) for _ in range(n)]\n",
    "\n",
    "def create_population(pop_size, n):\n",
    "    return [create_individual(n) for _ in range(pop_size)]\n",
    "\n",
    "def crossover(parent1, parent2):\n",
    "    point = random.randint(1, len(parent1) - 1)\n",
    "    return parent1[:point] + parent2[point:], parent2[:point] + parent1[point:]\n",
    "\n",
    "def mutate(individual, mutation_rate):\n",
    "    for i in range(len(individual)):\n",
    "        if random.random() < mutation_rate:\n",
    "            individual[i] = random.uniform(-100, 100)\n",
    "\n",
    "def select_individual(population, fitnesses):\n",
    "    total_fitness = sum(fitnesses)\n",
    "    pick = random.uniform(0, total_fitness)\n",
    "    current = 0\n",
    "    for individual, fitness in zip(population, fitnesses):\n",
    "        current += fitness\n",
    "        if current > pick:\n",
    "            return individual"
   ]
  },
  {
   "cell_type": "code",
   "execution_count": 3,
   "metadata": {},
   "outputs": [],
   "source": [
    "def genetic_algorithm(n, pop_size, generations, mutation_rate):\n",
    "    population = create_population(pop_size, n)\n",
    "    for generation in range(generations):\n",
    "        fitnesses = [objective_function(ind) for ind in population]\n",
    "        new_population = []\n",
    "        for _ in range(pop_size // 2):\n",
    "            parent1 = select_individual(population, fitnesses)\n",
    "            parent2 = select_individual(population, fitnesses)\n",
    "            offspring1, offspring2 = crossover(parent1, parent2)\n",
    "            mutate(offspring1, mutation_rate)\n",
    "            mutate(offspring2, mutation_rate)\n",
    "            new_population.extend([offspring1, offspring2])\n",
    "        population = new_population\n",
    "        \n",
    "        # Print statistics\n",
    "        best_individual = max(population, key=objective_function)\n",
    "        best_fitness = objective_function(best_individual)\n",
    "        print(f\"Generation {generation + 1}: Best Fitness = {best_fitness}\")\n",
    "\n",
    "    best_individual = max(population, key=objective_function)\n",
    "    return best_individual, objective_function(best_individual)"
   ]
  },
  {
   "cell_type": "code",
   "execution_count": 4,
   "metadata": {},
   "outputs": [
    {
     "name": "stdout",
     "output_type": "stream",
     "text": [
      "Generation 1: Best Fitness = 58725.29534716251\n",
      "Generation 2: Best Fitness = 52112.30023139065\n",
      "Generation 3: Best Fitness = 47476.084966457514\n",
      "Generation 4: Best Fitness = 60832.971054430825\n",
      "Generation 5: Best Fitness = 57236.23178623847\n",
      "Generation 6: Best Fitness = 59434.04894560334\n",
      "Generation 7: Best Fitness = 59370.78811446702\n",
      "Generation 8: Best Fitness = 54459.43502534856\n",
      "Generation 9: Best Fitness = 55354.09161631354\n",
      "Generation 10: Best Fitness = 62576.157790002675\n",
      "Best Individual: [80.68098571646163, 89.74960485411216, -42.955086926294996, -82.39272470270431, -78.76843517482061, 56.80350940832756, 94.79540927767707, -49.743685368748956, 97.8711916407635, 94.37989784488016]\n",
      "Best Fitness: 62576.157790002675\n"
     ]
    }
   ],
   "source": [
    "n = 10  # Number of dimensions\n",
    "pop_size = 10  # Population size\n",
    "generations = 10  # Number of generations\n",
    "mutation_rate = 0.2  # Mutation rate\n",
    "\n",
    "best_individual, best_fitness = genetic_algorithm(n, pop_size, generations, mutation_rate)\n",
    "print(\"Best Individual:\", best_individual)\n",
    "print(\"Best Fitness:\", best_fitness)"
   ]
  }
 ],
 "metadata": {
  "kernelspec": {
   "display_name": "Python 3",
   "language": "python",
   "name": "python3"
  },
  "language_info": {
   "codemirror_mode": {
    "name": "ipython",
    "version": 3
   },
   "file_extension": ".py",
   "mimetype": "text/x-python",
   "name": "python",
   "nbconvert_exporter": "python",
   "pygments_lexer": "ipython3",
   "version": "3.11.1"
  }
 },
 "nbformat": 4,
 "nbformat_minor": 2
}
