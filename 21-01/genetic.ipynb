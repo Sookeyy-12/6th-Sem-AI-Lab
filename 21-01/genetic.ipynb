{
 "cells": [
  {
   "cell_type": "code",
   "execution_count": 4,
   "metadata": {},
   "outputs": [],
   "source": [
    "import random\n",
    "import numpy as np"
   ]
  },
  {
   "cell_type": "code",
   "execution_count": 5,
   "metadata": {},
   "outputs": [],
   "source": [
    "def objective_function(X):\n",
    "    return sum(x**2 for x in X)\n",
    "\n",
    "def create_individual(n):\n",
    "    return [random.uniform(-100, 100) for _ in range(n)]\n",
    "\n",
    "def create_population(pop_size, n):\n",
    "    return [create_individual(n) for _ in range(pop_size)]\n",
    "\n",
    "def crossover(parent1, parent2):\n",
    "    point = random.randint(1, len(parent1) - 1)\n",
    "    return parent1[:point] + parent2[point:], parent2[:point] + parent1[point:]\n",
    "\n",
    "def mutate(individual, mutation_rate):\n",
    "    for i in range(len(individual)):\n",
    "        if random.random() < mutation_rate:\n",
    "            individual[i] = random.uniform(-100, 100)\n",
    "\n",
    "def select_individual(population, fitnesses):\n",
    "    total_fitness = sum(fitnesses)\n",
    "    pick = random.uniform(0, total_fitness)\n",
    "    current = 0\n",
    "    for individual, fitness in zip(population, fitnesses):\n",
    "        current += fitness\n",
    "        if current > pick:\n",
    "            return individual"
   ]
  },
  {
   "cell_type": "code",
   "execution_count": 6,
   "metadata": {},
   "outputs": [],
   "source": [
    "def genetic_algorithm(n, pop_size, generations, mutation_rate):\n",
    "    population = create_population(pop_size, n)\n",
    "    for generation in range(generations):\n",
    "        fitnesses = [objective_function(ind) for ind in population]\n",
    "        new_population = []\n",
    "        for _ in range(pop_size // 2):\n",
    "            parent1 = select_individual(population, fitnesses)\n",
    "            parent2 = select_individual(population, fitnesses)\n",
    "            offspring1, offspring2 = crossover(parent1, parent2)\n",
    "            mutate(offspring1, mutation_rate)\n",
    "            mutate(offspring2, mutation_rate)\n",
    "            new_population.extend([offspring1, offspring2])\n",
    "        population = new_population\n",
    "        \n",
    "        # Print statistics\n",
    "        best_individual = max(population, key=objective_function)\n",
    "        best_fitness = objective_function(best_individual)\n",
    "        print(f\"Generation {generation + 1}: Best Fitness = {best_fitness}\")\n",
    "\n",
    "    best_individual = max(population, key=objective_function)\n",
    "    return best_individual, objective_function(best_individual)"
   ]
  },
  {
   "cell_type": "code",
   "execution_count": 7,
   "metadata": {},
   "outputs": [
    {
     "name": "stdout",
     "output_type": "stream",
     "text": [
      "Generation 1: Best Fitness = 44892.07409992548\n",
      "Generation 2: Best Fitness = 48840.537611700434\n",
      "Generation 3: Best Fitness = 49620.93298969985\n",
      "Generation 4: Best Fitness = 57401.760659807616\n",
      "Generation 5: Best Fitness = 60654.055492082\n",
      "Generation 6: Best Fitness = 57569.242866667955\n",
      "Generation 7: Best Fitness = 50218.399645075275\n",
      "Generation 8: Best Fitness = 45772.5408606704\n",
      "Generation 9: Best Fitness = 46392.75599238224\n",
      "Generation 10: Best Fitness = 47479.62404209817\n",
      "Best Individual: [-76.91246391099247, -74.31022004963594, 94.99307809675, 55.69360073417542, -78.64568565715535, -39.03737023014278, 21.447602798475643, 62.12029791764141, -59.90373936140594, -91.10530647966593]\n",
      "Best Fitness: 47479.62404209817\n"
     ]
    }
   ],
   "source": [
    "n = 10  # Number of dimensions\n",
    "pop_size = 10  # Population size\n",
    "generations = 10  # Number of generations\n",
    "mutation_rate = 0.2  # Mutation rate\n",
    "\n",
    "best_individual, best_fitness = genetic_algorithm(n, pop_size, generations, mutation_rate)\n",
    "print(\"Best Individual:\", best_individual)\n",
    "print(\"Best Fitness:\", best_fitness)"
   ]
  }
 ],
 "metadata": {
  "kernelspec": {
   "display_name": "Python 3",
   "language": "python",
   "name": "python3"
  },
  "language_info": {
   "codemirror_mode": {
    "name": "ipython",
    "version": 3
   },
   "file_extension": ".py",
   "mimetype": "text/x-python",
   "name": "python",
   "nbconvert_exporter": "python",
   "pygments_lexer": "ipython3",
   "version": "3.11.1"
  }
 },
 "nbformat": 4,
 "nbformat_minor": 2
}
