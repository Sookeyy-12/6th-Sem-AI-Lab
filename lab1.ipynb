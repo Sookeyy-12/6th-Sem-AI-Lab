{
 "cells": [
  {
   "cell_type": "markdown",
   "metadata": {},
   "source": [
    "## Assignment 1: Maze Solver Using BFS and DFS"
   ]
  },
  {
   "cell_type": "markdown",
   "metadata": {},
   "source": [
    "**Objective**: Implement BFS and DFS to solve a maze problem\n",
    "\n",
    "**Problem Statement**: Given a grid based maze where `0` represents walls and  `1` represents walkable paths, find the shortest path from a start cell to an end cell.\n",
    "\n",
    "**Tasks**: \n",
    "1. Use BFS to find shortest path.\n",
    "2. Use DFS to explore all possible paths and report one valid path (not necessarily the shortest).\n",
    "3. Compare the number of nodes explored by BFS and DFS."
   ]
  },
  {
   "cell_type": "markdown",
   "metadata": {},
   "source": [
    "### 0. Generate Random Matrix"
   ]
  },
  {
   "cell_type": "code",
   "execution_count": 122,
   "metadata": {},
   "outputs": [
    {
     "data": {
      "text/plain": [
       "[[0, 0, 1, 0, 1],\n",
       " [1, 1, 0, 0, 0],\n",
       " [1, 0, 1, 1, 0],\n",
       " [0, 0, 1, 1, 0],\n",
       " [0, 0, 0, 1, 1]]"
      ]
     },
     "execution_count": 122,
     "metadata": {},
     "output_type": "execute_result"
    }
   ],
   "source": [
    "import random\n",
    "def generateRandomMaze(n, m):\n",
    "    maze = []\n",
    "    for i in range(n):\n",
    "        maze.append([])\n",
    "        for j in range(m):\n",
    "            maze[i].append(random.choice([0,1]))\n",
    "    return maze\n",
    "\n",
    "maze = generateRandomMaze(5, 5)\n",
    "maze"
   ]
  },
  {
   "cell_type": "code",
   "execution_count": 127,
   "metadata": {},
   "outputs": [],
   "source": [
    "correctmaze =  [[1, 0, 1, 1, 1],\n",
    "                [1, 1, 1, 0, 1],\n",
    "                [0, 1, 1, 0, 1],\n",
    "                [0, 0, 1, 1, 1],\n",
    "                [0, 0, 0, 0, 1]]"
   ]
  },
  {
   "cell_type": "markdown",
   "metadata": {},
   "source": [
    "### 1. BFS to find Shortest Path"
   ]
  },
  {
   "cell_type": "code",
   "execution_count": 134,
   "metadata": {},
   "outputs": [
    {
     "name": "stdout",
     "output_type": "stream",
     "text": [
      "Shortest Path=>[(0, 0), (1, 0), (1, 1), (1, 2), (2, 2), (3, 2), (3, 3), (3, 4), (4, 4)]\n",
      "Nodes Explored=>15\n"
     ]
    }
   ],
   "source": [
    "def bfs(maze, start, end):\n",
    "    n = len(maze)\n",
    "    m = len(maze[0])\n",
    "    visited = [[False for j in range(m)] for i in range(n)]\n",
    "    queue = [(start, [start])]\n",
    "    visited[start[0]][start[1]] = True\n",
    "    nodes_explored = 0\n",
    "    \n",
    "    while queue:\n",
    "        (i, j), path = queue.pop(0)\n",
    "        nodes_explored += 1\n",
    "        if (i, j) == end:\n",
    "            return path, nodes_explored\n",
    "        dirs = [-1, 0, 1, 0, -1]\n",
    "        for k in range(4):\n",
    "            ni, nj = i + dirs[k], j + dirs[k + 1]\n",
    "            if 0 <= ni < n and 0 <= nj < m and maze[ni][nj] == 1 and not visited[ni][nj]:\n",
    "                queue.append(((ni, nj), path + [(ni, nj)]))\n",
    "                visited[ni][nj] = True\n",
    "    return None, nodes_explored\n",
    "\n",
    "shortest_path, nodes_explored = bfs(correctmaze, (0, 0), (4, 4))\n",
    "print(f'Shortest Path=>{shortest_path}')\n",
    "print(f'Nodes Explored=>{nodes_explored}')"
   ]
  },
  {
   "cell_type": "markdown",
   "metadata": {},
   "source": [
    "### 2. DFS to explore all Valid Paths"
   ]
  },
  {
   "cell_type": "code",
   "execution_count": 138,
   "metadata": {},
   "outputs": [
    {
     "name": "stdout",
     "output_type": "stream",
     "text": [
      "All Paths=>[[(0, 0), (1, 0), (1, 1), (2, 1), (2, 2), (3, 2), (3, 3), (3, 4), (4, 4)], [(0, 0), (1, 0), (1, 1), (2, 1), (2, 2), (1, 2), (0, 2), (0, 3), (0, 4), (1, 4), (2, 4), (3, 4), (4, 4)], [(0, 0), (1, 0), (1, 1), (1, 2), (2, 2), (3, 2), (3, 3), (3, 4), (4, 4)], [(0, 0), (1, 0), (1, 1), (1, 2), (0, 2), (0, 3), (0, 4), (1, 4), (2, 4), (3, 4), (4, 4)]]\n",
      "One valid Path=>[(0, 0), (1, 0), (1, 1), (2, 1), (2, 2), (3, 2), (3, 3), (3, 4), (4, 4)]\n",
      "Nodes Explored=>48\n"
     ]
    }
   ],
   "source": [
    "def dfs(maze, start, end):\n",
    "    n = len(maze)\n",
    "    m = len(maze[0])\n",
    "    stack = [(start, [start])]\n",
    "    nodes_explored = 0\n",
    "    all_paths = []\n",
    "    \n",
    "    while stack:\n",
    "        (i, j), path = stack.pop()\n",
    "        nodes_explored += 1\n",
    "        if (i, j) == end:\n",
    "            all_paths.append(path)\n",
    "        dirs = [-1, 0, 1, 0, -1]\n",
    "        for k in range(4):\n",
    "            ni, nj = i + dirs[k], j + dirs[k + 1]\n",
    "            if 0 <= ni < n and 0 <= nj < m and maze[ni][nj] == 1 and (ni, nj) not in path:\n",
    "                stack.append(((ni, nj), path + [(ni, nj)]))\n",
    "    \n",
    "    return all_paths, nodes_explored\n",
    "\n",
    "all_paths, nodes_explored_dfs = dfs(correctmaze, (0, 0), (4, 4))\n",
    "print(f'All Paths=>{all_paths}')\n",
    "print(f'One valid Path=>{all_paths[0]}')\n",
    "print(f'Nodes Explored=>{nodes_explored_dfs}')\n"
   ]
  },
  {
   "cell_type": "markdown",
   "metadata": {},
   "source": [
    "### 3. Compare the number of nodes explored by BFS and DFS"
   ]
  },
  {
   "cell_type": "code",
   "execution_count": 140,
   "metadata": {},
   "outputs": [
    {
     "name": "stdout",
     "output_type": "stream",
     "text": [
      "Number of nodes explored by BFS: 15\n",
      "Number of nodes explored by DFS: 48\n"
     ]
    }
   ],
   "source": [
    "print(f\"Number of nodes explored by BFS: {bfs(correctmaze, (0, 0), (4, 4))[1]}\")\n",
    "print(f\"Number of nodes explored by DFS: {dfs(correctmaze, (0, 0), (4, 4))[1]}\")"
   ]
  },
  {
   "cell_type": "code",
   "execution_count": null,
   "metadata": {},
   "outputs": [],
   "source": []
  }
 ],
 "metadata": {
  "kernelspec": {
   "display_name": "Python 3",
   "language": "python",
   "name": "python3"
  },
  "language_info": {
   "codemirror_mode": {
    "name": "ipython",
    "version": 3
   },
   "file_extension": ".py",
   "mimetype": "text/x-python",
   "name": "python",
   "nbconvert_exporter": "python",
   "pygments_lexer": "ipython3",
   "version": "3.11.1"
  }
 },
 "nbformat": 4,
 "nbformat_minor": 2
}
