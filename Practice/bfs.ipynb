{
 "cells": [
  {
   "cell_type": "markdown",
   "metadata": {},
   "source": [
    "## BFS"
   ]
  },
  {
   "cell_type": "code",
   "execution_count": 18,
   "metadata": {},
   "outputs": [],
   "source": [
    "from collections import deque"
   ]
  },
  {
   "cell_type": "code",
   "execution_count": 19,
   "metadata": {},
   "outputs": [],
   "source": [
    "def bfs(graph, start):\n",
    "    visited = set()\n",
    "    queue = deque([start])\n",
    "    while queue:\n",
    "        node = queue.popleft()\n",
    "        if node not in visited:\n",
    "            visited.add(node)\n",
    "            print(node, end=\" \")\n",
    "            queue.extend(graph[node]-visited)"
   ]
  },
  {
   "cell_type": "code",
   "execution_count": 20,
   "metadata": {},
   "outputs": [],
   "source": [
    "graph = {\n",
    "    'A': {'B', 'C'},\n",
    "    'B': {'A', 'D', 'E'},\n",
    "    'C': {'A', 'F'},\n",
    "    'D': {'B'},\n",
    "    'E': {'B', 'F'},\n",
    "    'F': {'C', 'E'}\n",
    "}"
   ]
  },
  {
   "cell_type": "code",
   "execution_count": 21,
   "metadata": {},
   "outputs": [
    {
     "name": "stdout",
     "output_type": "stream",
     "text": [
      "A C B F D E "
     ]
    }
   ],
   "source": [
    "bfs(graph, 'A')"
   ]
  },
  {
   "cell_type": "markdown",
   "metadata": {},
   "source": [
    "## Bi-Directional BFS"
   ]
  },
  {
   "cell_type": "code",
   "execution_count": 22,
   "metadata": {},
   "outputs": [],
   "source": [
    "def construct_path(start_visited, goal_visited, meet_point):\n",
    "    path = []\n",
    "    while meet_point:\n",
    "        path.append(meet_point)\n",
    "        meet_point = start_visited[meet_point]\n",
    "    path.reverse()\n",
    "    meet_point = goal_visited[path[-1]]\n",
    "    while meet_point:\n",
    "        path.append(meet_point)\n",
    "        meet_point = goal_visited[meet_point]\n",
    "    return path"
   ]
  },
  {
   "cell_type": "code",
   "execution_count": 23,
   "metadata": {},
   "outputs": [],
   "source": [
    "def bibfs(graph, start, goal):\n",
    "    if start == goal:\n",
    "        return [start]\n",
    "    start_visited , goal_visited = {start: None}, {goal: None}\n",
    "    start_queue, goal_queue = deque([start]), deque([goal])\n",
    "    while start_queue and goal_queue:\n",
    "        if start_queue:\n",
    "            node = start_queue.popleft()\n",
    "            for adjnode in graph[node]:\n",
    "                if adjnode not in start_visited:\n",
    "                    start_visited[adjnode] = node\n",
    "                    start_queue.append(adjnode)\n",
    "                if adjnode in goal_visited:\n",
    "                    return construct_path(start_visited, goal_visited, adjnode)\n",
    "        if goal_visited:\n",
    "            node = goal_queue.popleft()\n",
    "            for adjnode in graph[node]:\n",
    "                if adjnode not in goal_visited:\n",
    "                    goal_visited[adjnode] = node\n",
    "                    goal_queue.append(adjnode)\n",
    "                if adjnode in start_visited:\n",
    "                    return construct_path(start_visited, goal_visited, adjnode)\n",
    "    return None"
   ]
  },
  {
   "cell_type": "code",
   "execution_count": 24,
   "metadata": {},
   "outputs": [],
   "source": [
    "graph = {\n",
    "    'A': {'B', 'C'},\n",
    "    'B': {'A', 'D', 'E'},\n",
    "    'C': {'A', 'F'},\n",
    "    'D': {'B'},\n",
    "    'E': {'B', 'F'},\n",
    "    'F': {'C', 'E'}\n",
    "}"
   ]
  },
  {
   "cell_type": "code",
   "execution_count": 25,
   "metadata": {},
   "outputs": [
    {
     "name": "stdout",
     "output_type": "stream",
     "text": [
      "['A', 'C', 'F']\n"
     ]
    }
   ],
   "source": [
    "print(bibfs(graph, 'A', 'F'))"
   ]
  }
 ],
 "metadata": {
  "kernelspec": {
   "display_name": "Python 3",
   "language": "python",
   "name": "python3"
  },
  "language_info": {
   "codemirror_mode": {
    "name": "ipython",
    "version": 3
   },
   "file_extension": ".py",
   "mimetype": "text/x-python",
   "name": "python",
   "nbconvert_exporter": "python",
   "pygments_lexer": "ipython3",
   "version": "3.11.1"
  }
 },
 "nbformat": 4,
 "nbformat_minor": 2
}
